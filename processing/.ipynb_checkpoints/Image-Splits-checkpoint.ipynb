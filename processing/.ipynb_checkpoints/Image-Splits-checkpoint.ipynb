{
 "cells": [
  {
   "cell_type": "code",
   "execution_count": 259,
   "metadata": {},
   "outputs": [],
   "source": [
    "import pandas as pd\n",
    "import numpy as np\n",
    "import os\n",
    "import re\n",
    "import string\n",
    "from collections import defaultdict\n",
    "import unidecode "
   ]
  },
  {
   "cell_type": "markdown",
   "metadata": {},
   "source": [
    "# Create Image Splits\n",
    "\n",
    "In this notebook I split the 206949 photos provided into those that have captions, and those that don't. Then I further split the photos which have captions into training and developement sets, for the use of hyperparameter tuning in future experiments. "
   ]
  },
  {
   "cell_type": "markdown",
   "metadata": {},
   "source": [
    "## 1. Load image metadata\n",
    "\n",
    "The file `photos.json`, downloaded directly from [the yelp dataset page](https://www.yelp.com/dataset/download), lists the photo and business identifier for each of the photos. The caption (if any), are also provided. "
   ]
  },
  {
   "cell_type": "code",
   "execution_count": 3,
   "metadata": {},
   "outputs": [],
   "source": [
    "df = pd.read_json(\"../data/yelp_photos/photos.json\", lines = True)"
   ]
  },
  {
   "cell_type": "code",
   "execution_count": 14,
   "metadata": {},
   "outputs": [
    {
     "data": {
      "text/html": [
       "<div>\n",
       "<style scoped>\n",
       "    .dataframe tbody tr th:only-of-type {\n",
       "        vertical-align: middle;\n",
       "    }\n",
       "\n",
       "    .dataframe tbody tr th {\n",
       "        vertical-align: top;\n",
       "    }\n",
       "\n",
       "    .dataframe thead th {\n",
       "        text-align: right;\n",
       "    }\n",
       "</style>\n",
       "<table border=\"1\" class=\"dataframe\">\n",
       "  <thead>\n",
       "    <tr style=\"text-align: right;\">\n",
       "      <th></th>\n",
       "      <th>business_id</th>\n",
       "      <th>caption</th>\n",
       "      <th>label</th>\n",
       "      <th>photo_id</th>\n",
       "    </tr>\n",
       "  </thead>\n",
       "  <tbody>\n",
       "    <tr>\n",
       "      <th>0</th>\n",
       "      <td>OnAzbTDn79W6CFZIriqLrA</td>\n",
       "      <td></td>\n",
       "      <td>inside</td>\n",
       "      <td>soK1szeyan202jnsGhUDmA</td>\n",
       "    </tr>\n",
       "    <tr>\n",
       "      <th>1</th>\n",
       "      <td>OnAzbTDn79W6CFZIriqLrA</td>\n",
       "      <td></td>\n",
       "      <td>inside</td>\n",
       "      <td>dU7AyRB_fHOZkflodEyN5A</td>\n",
       "    </tr>\n",
       "    <tr>\n",
       "      <th>2</th>\n",
       "      <td>OnAzbTDn79W6CFZIriqLrA</td>\n",
       "      <td></td>\n",
       "      <td>outside</td>\n",
       "      <td>6T1qlbBdKkXA1cDNqMjg2g</td>\n",
       "    </tr>\n",
       "    <tr>\n",
       "      <th>3</th>\n",
       "      <td>OnAzbTDn79W6CFZIriqLrA</td>\n",
       "      <td>Bakery area</td>\n",
       "      <td>inside</td>\n",
       "      <td>lHhMNhCA7rAZmi-MMfF3ZA</td>\n",
       "    </tr>\n",
       "    <tr>\n",
       "      <th>4</th>\n",
       "      <td>XaeCGHZzsMwvFcHYq3q9sA</td>\n",
       "      <td></td>\n",
       "      <td>food</td>\n",
       "      <td>oHSCeyoK9oLIGaCZq-wRJw</td>\n",
       "    </tr>\n",
       "    <tr>\n",
       "      <th>5</th>\n",
       "      <td>XaeCGHZzsMwvFcHYq3q9sA</td>\n",
       "      <td></td>\n",
       "      <td>food</td>\n",
       "      <td>EN9qzZpxfv00B_4X6q5lYA</td>\n",
       "    </tr>\n",
       "    <tr>\n",
       "      <th>6</th>\n",
       "      <td>XaeCGHZzsMwvFcHYq3q9sA</td>\n",
       "      <td></td>\n",
       "      <td>food</td>\n",
       "      <td>M6c0qxQQwWkUzAxIvoTFuQ</td>\n",
       "    </tr>\n",
       "    <tr>\n",
       "      <th>7</th>\n",
       "      <td>XaeCGHZzsMwvFcHYq3q9sA</td>\n",
       "      <td></td>\n",
       "      <td>food</td>\n",
       "      <td>876EKnk6deA7xA4i1aipJg</td>\n",
       "    </tr>\n",
       "    <tr>\n",
       "      <th>8</th>\n",
       "      <td>XaeCGHZzsMwvFcHYq3q9sA</td>\n",
       "      <td></td>\n",
       "      <td>food</td>\n",
       "      <td>NFCDwGr_-TEiw9bzx3nFKw</td>\n",
       "    </tr>\n",
       "    <tr>\n",
       "      <th>9</th>\n",
       "      <td>XaeCGHZzsMwvFcHYq3q9sA</td>\n",
       "      <td></td>\n",
       "      <td>food</td>\n",
       "      <td>YDmNsu38Nk2rPZMFEWBzvw</td>\n",
       "    </tr>\n",
       "    <tr>\n",
       "      <th>10</th>\n",
       "      <td>4l56EXyCWwPlPXcX9qq-jw</td>\n",
       "      <td></td>\n",
       "      <td>inside</td>\n",
       "      <td>UIx1UZw3ohK95t3DJC46bA</td>\n",
       "    </tr>\n",
       "    <tr>\n",
       "      <th>11</th>\n",
       "      <td>QqpzPFFHeHqyWSPZI-DkvQ</td>\n",
       "      <td>The Hangar's house band, Tuned Up. Check our C...</td>\n",
       "      <td>inside</td>\n",
       "      <td>kHrkA-8BY4tC-rejiJNhBQ</td>\n",
       "    </tr>\n",
       "    <tr>\n",
       "      <th>12</th>\n",
       "      <td>77N3luh2YzfJFJGFIfqqbw</td>\n",
       "      <td>That's The man's butt. Ask him about beer (ale...</td>\n",
       "      <td>inside</td>\n",
       "      <td>ljStFDx0XFg8jSbJIRhvGA</td>\n",
       "    </tr>\n",
       "    <tr>\n",
       "      <th>13</th>\n",
       "      <td>77N3luh2YzfJFJGFIfqqbw</td>\n",
       "      <td></td>\n",
       "      <td>inside</td>\n",
       "      <td>eVSK-mJ2qtusnqqsCwuXGw</td>\n",
       "    </tr>\n",
       "    <tr>\n",
       "      <th>14</th>\n",
       "      <td>3nR6JE3hD-D-Fhzr10_k7g</td>\n",
       "      <td></td>\n",
       "      <td>food</td>\n",
       "      <td>wjbdjtiBQciSBY9KzzBUIA</td>\n",
       "    </tr>\n",
       "    <tr>\n",
       "      <th>15</th>\n",
       "      <td>3nR6JE3hD-D-Fhzr10_k7g</td>\n",
       "      <td>BBQ Shrimp</td>\n",
       "      <td>food</td>\n",
       "      <td>JoB_QTE2Hjr1NT0AgYdWzQ</td>\n",
       "    </tr>\n",
       "    <tr>\n",
       "      <th>16</th>\n",
       "      <td>3nR6JE3hD-D-Fhzr10_k7g</td>\n",
       "      <td>Sharkfin Pie</td>\n",
       "      <td>food</td>\n",
       "      <td>PvdNq213kqk7N9raOcefEw</td>\n",
       "    </tr>\n",
       "    <tr>\n",
       "      <th>17</th>\n",
       "      <td>3nR6JE3hD-D-Fhzr10_k7g</td>\n",
       "      <td>I love mussels</td>\n",
       "      <td>food</td>\n",
       "      <td>jQyiq-HX3mUCXOyQ0lc0QA</td>\n",
       "    </tr>\n",
       "    <tr>\n",
       "      <th>18</th>\n",
       "      <td>3nR6JE3hD-D-Fhzr10_k7g</td>\n",
       "      <td>shanghai rainbow trout</td>\n",
       "      <td>food</td>\n",
       "      <td>_ExrVJTjGcChfzLH51etAw</td>\n",
       "    </tr>\n",
       "    <tr>\n",
       "      <th>19</th>\n",
       "      <td>3nR6JE3hD-D-Fhzr10_k7g</td>\n",
       "      <td>crispy ginger cod fish</td>\n",
       "      <td>food</td>\n",
       "      <td>Ex6bzPB9ZrKiSX0fnBvhfA</td>\n",
       "    </tr>\n",
       "  </tbody>\n",
       "</table>\n",
       "</div>"
      ],
      "text/plain": [
       "               business_id                                            caption  \\\n",
       "0   OnAzbTDn79W6CFZIriqLrA                                                      \n",
       "1   OnAzbTDn79W6CFZIriqLrA                                                      \n",
       "2   OnAzbTDn79W6CFZIriqLrA                                                      \n",
       "3   OnAzbTDn79W6CFZIriqLrA                                        Bakery area   \n",
       "4   XaeCGHZzsMwvFcHYq3q9sA                                                      \n",
       "5   XaeCGHZzsMwvFcHYq3q9sA                                                      \n",
       "6   XaeCGHZzsMwvFcHYq3q9sA                                                      \n",
       "7   XaeCGHZzsMwvFcHYq3q9sA                                                      \n",
       "8   XaeCGHZzsMwvFcHYq3q9sA                                                      \n",
       "9   XaeCGHZzsMwvFcHYq3q9sA                                                      \n",
       "10  4l56EXyCWwPlPXcX9qq-jw                                                      \n",
       "11  QqpzPFFHeHqyWSPZI-DkvQ  The Hangar's house band, Tuned Up. Check our C...   \n",
       "12  77N3luh2YzfJFJGFIfqqbw  That's The man's butt. Ask him about beer (ale...   \n",
       "13  77N3luh2YzfJFJGFIfqqbw                                                      \n",
       "14  3nR6JE3hD-D-Fhzr10_k7g                                                      \n",
       "15  3nR6JE3hD-D-Fhzr10_k7g                                         BBQ Shrimp   \n",
       "16  3nR6JE3hD-D-Fhzr10_k7g                                       Sharkfin Pie   \n",
       "17  3nR6JE3hD-D-Fhzr10_k7g                                     I love mussels   \n",
       "18  3nR6JE3hD-D-Fhzr10_k7g                             shanghai rainbow trout   \n",
       "19  3nR6JE3hD-D-Fhzr10_k7g                             crispy ginger cod fish   \n",
       "\n",
       "      label                photo_id  \n",
       "0    inside  soK1szeyan202jnsGhUDmA  \n",
       "1    inside  dU7AyRB_fHOZkflodEyN5A  \n",
       "2   outside  6T1qlbBdKkXA1cDNqMjg2g  \n",
       "3    inside  lHhMNhCA7rAZmi-MMfF3ZA  \n",
       "4      food  oHSCeyoK9oLIGaCZq-wRJw  \n",
       "5      food  EN9qzZpxfv00B_4X6q5lYA  \n",
       "6      food  M6c0qxQQwWkUzAxIvoTFuQ  \n",
       "7      food  876EKnk6deA7xA4i1aipJg  \n",
       "8      food  NFCDwGr_-TEiw9bzx3nFKw  \n",
       "9      food  YDmNsu38Nk2rPZMFEWBzvw  \n",
       "10   inside  UIx1UZw3ohK95t3DJC46bA  \n",
       "11   inside  kHrkA-8BY4tC-rejiJNhBQ  \n",
       "12   inside  ljStFDx0XFg8jSbJIRhvGA  \n",
       "13   inside  eVSK-mJ2qtusnqqsCwuXGw  \n",
       "14     food  wjbdjtiBQciSBY9KzzBUIA  \n",
       "15     food  JoB_QTE2Hjr1NT0AgYdWzQ  \n",
       "16     food  PvdNq213kqk7N9raOcefEw  \n",
       "17     food  jQyiq-HX3mUCXOyQ0lc0QA  \n",
       "18     food  _ExrVJTjGcChfzLH51etAw  \n",
       "19     food  Ex6bzPB9ZrKiSX0fnBvhfA  "
      ]
     },
     "execution_count": 14,
     "metadata": {},
     "output_type": "execute_result"
    }
   ],
   "source": [
    "df.head(20)"
   ]
  },
  {
   "cell_type": "markdown",
   "metadata": {},
   "source": [
    "## 2. Isolate images with  captions\n",
    "\n",
    "For training purposes, the images which have captions are what interest me. The ones that don't can be used to manually validate that my model is doing something reasonable, but won't be helpful for training purposes.  "
   ]
  },
  {
   "cell_type": "code",
   "execution_count": 15,
   "metadata": {},
   "outputs": [
    {
     "data": {
      "text/plain": [
       "''"
      ]
     },
     "execution_count": 15,
     "metadata": {},
     "output_type": "execute_result"
    }
   ],
   "source": [
    "# what do the missing values look like? \n",
    "df['caption'][0]"
   ]
  },
  {
   "cell_type": "code",
   "execution_count": 16,
   "metadata": {},
   "outputs": [],
   "source": [
    "# isolate the indecies of incomplete values\n",
    "missing_idx = df['caption'] == ''"
   ]
  },
  {
   "cell_type": "code",
   "execution_count": 260,
   "metadata": {},
   "outputs": [],
   "source": [
    "# seperate full and missing data\n",
    "df_full = df[np.logical_not(missing_idx)]\n",
    "df_missing = df[missing_idx]"
   ]
  },
  {
   "cell_type": "markdown",
   "metadata": {},
   "source": [
    "Now we have two datasets - one of images _with_ captions and one _without_. How many images have captions? "
   ]
  },
  {
   "cell_type": "code",
   "execution_count": 261,
   "metadata": {},
   "outputs": [
    {
     "name": "stdout",
     "output_type": "stream",
     "text": [
      "Num Images with captions:    100807\n",
      "Num Images without captions: 106142\n"
     ]
    }
   ],
   "source": [
    "print(\"Num Images with captions:    %d\"%  df_full.shape[0])\n",
    "print(\"Num Images without captions: %d\"%  df_missing.shape[0])"
   ]
  },
  {
   "cell_type": "markdown",
   "metadata": {},
   "source": [
    "Pretty good! half the images have catptions!"
   ]
  },
  {
   "cell_type": "code",
   "execution_count": 262,
   "metadata": {},
   "outputs": [
    {
     "data": {
      "text/html": [
       "<div>\n",
       "<style scoped>\n",
       "    .dataframe tbody tr th:only-of-type {\n",
       "        vertical-align: middle;\n",
       "    }\n",
       "\n",
       "    .dataframe tbody tr th {\n",
       "        vertical-align: top;\n",
       "    }\n",
       "\n",
       "    .dataframe thead th {\n",
       "        text-align: right;\n",
       "    }\n",
       "</style>\n",
       "<table border=\"1\" class=\"dataframe\">\n",
       "  <thead>\n",
       "    <tr style=\"text-align: right;\">\n",
       "      <th></th>\n",
       "      <th>photo_id</th>\n",
       "      <th>caption</th>\n",
       "    </tr>\n",
       "  </thead>\n",
       "  <tbody>\n",
       "    <tr>\n",
       "      <th>44542</th>\n",
       "      <td>8S_K6cRyccNTQMw-N51u-Q</td>\n",
       "      <td>Bigeye Tuna Poke : Roasted Macadamia Nuts, Fri...</td>\n",
       "    </tr>\n",
       "    <tr>\n",
       "      <th>202839</th>\n",
       "      <td>nSZsgQD3OuvdH8cHErNCPg</td>\n",
       "      <td>Taco salad</td>\n",
       "    </tr>\n",
       "    <tr>\n",
       "      <th>170180</th>\n",
       "      <td>y90COAKwbyljtTdm6XElgw</td>\n",
       "      <td>Top Marmorierung</td>\n",
       "    </tr>\n",
       "    <tr>\n",
       "      <th>115885</th>\n",
       "      <td>l2gl4gImt_nkrqKrqjUZaw</td>\n",
       "      <td>Com Dia</td>\n",
       "    </tr>\n",
       "    <tr>\n",
       "      <th>47893</th>\n",
       "      <td>HWYKDyM649lKcxG9FCfjuw</td>\n",
       "      <td>Kung Pao Beef and Fried Rice</td>\n",
       "    </tr>\n",
       "    <tr>\n",
       "      <th>75167</th>\n",
       "      <td>Q9BUuhDigVDS2eyMlJaVrA</td>\n",
       "      <td>Shitake Mushroom</td>\n",
       "    </tr>\n",
       "    <tr>\n",
       "      <th>55510</th>\n",
       "      <td>y5wXpoC0NvbT2GMiJ0JyZQ</td>\n",
       "      <td>Vanilla caramel bourbon shake</td>\n",
       "    </tr>\n",
       "    <tr>\n",
       "      <th>180540</th>\n",
       "      <td>npcjI1I8eNBMcG2v_6oGjg</td>\n",
       "      <td>Sushi delux</td>\n",
       "    </tr>\n",
       "    <tr>\n",
       "      <th>103121</th>\n",
       "      <td>EqACZHqtNCovRi4KwOOgAA</td>\n",
       "      <td>Duo de crevette et petoncle.</td>\n",
       "    </tr>\n",
       "    <tr>\n",
       "      <th>115649</th>\n",
       "      <td>C1PCS2gPmIRhqFrVIybJnw</td>\n",
       "      <td>Appetizer Cold Beef dish -  tasty but chewy be...</td>\n",
       "    </tr>\n",
       "    <tr>\n",
       "      <th>109581</th>\n",
       "      <td>2Sg-fhVF7Q54Qk0fnD25WQ</td>\n",
       "      <td>At every table. Nice.</td>\n",
       "    </tr>\n",
       "    <tr>\n",
       "      <th>24578</th>\n",
       "      <td>bVHvhny_n85tV3zy7DsDvA</td>\n",
       "      <td>Beef Sandwich</td>\n",
       "    </tr>\n",
       "    <tr>\n",
       "      <th>49697</th>\n",
       "      <td>YprF2UF5Atrx7LNH8HMt_Q</td>\n",
       "      <td>AMAZING foie gras</td>\n",
       "    </tr>\n",
       "    <tr>\n",
       "      <th>128524</th>\n",
       "      <td>fvxU9Q5np7xf2jO5olpCeg</td>\n",
       "      <td>Chicken teriyaki ....she makes her own teriyak...</td>\n",
       "    </tr>\n",
       "    <tr>\n",
       "      <th>149811</th>\n",
       "      <td>6HV4gZ2--xJEEs_m-wXr_g</td>\n",
       "      <td>Kimchi Saimen $3.50</td>\n",
       "    </tr>\n",
       "    <tr>\n",
       "      <th>166275</th>\n",
       "      <td>X2u0TjNObu50lRvO3UGhIQ</td>\n",
       "      <td>Frutti di mare.</td>\n",
       "    </tr>\n",
       "    <tr>\n",
       "      <th>39071</th>\n",
       "      <td>FkhXtc0Rd6WsIG6AzvA5_A</td>\n",
       "      <td>Buffet</td>\n",
       "    </tr>\n",
       "    <tr>\n",
       "      <th>122615</th>\n",
       "      <td>w_Ii5zDPxVlpV7wZ85gFHA</td>\n",
       "      <td>tempura with the udon</td>\n",
       "    </tr>\n",
       "    <tr>\n",
       "      <th>56657</th>\n",
       "      <td>-oR3wYUZ4FpZRbCmWtbt1Q</td>\n",
       "      <td>Private party setup</td>\n",
       "    </tr>\n",
       "    <tr>\n",
       "      <th>169201</th>\n",
       "      <td>gDHKZhANxyHhjyrVyUWMug</td>\n",
       "      <td>Baguette and Bacon Brioche, Butter and Sea Sal...</td>\n",
       "    </tr>\n",
       "  </tbody>\n",
       "</table>\n",
       "</div>"
      ],
      "text/plain": [
       "                      photo_id  \\\n",
       "44542   8S_K6cRyccNTQMw-N51u-Q   \n",
       "202839  nSZsgQD3OuvdH8cHErNCPg   \n",
       "170180  y90COAKwbyljtTdm6XElgw   \n",
       "115885  l2gl4gImt_nkrqKrqjUZaw   \n",
       "47893   HWYKDyM649lKcxG9FCfjuw   \n",
       "75167   Q9BUuhDigVDS2eyMlJaVrA   \n",
       "55510   y5wXpoC0NvbT2GMiJ0JyZQ   \n",
       "180540  npcjI1I8eNBMcG2v_6oGjg   \n",
       "103121  EqACZHqtNCovRi4KwOOgAA   \n",
       "115649  C1PCS2gPmIRhqFrVIybJnw   \n",
       "109581  2Sg-fhVF7Q54Qk0fnD25WQ   \n",
       "24578   bVHvhny_n85tV3zy7DsDvA   \n",
       "49697   YprF2UF5Atrx7LNH8HMt_Q   \n",
       "128524  fvxU9Q5np7xf2jO5olpCeg   \n",
       "149811  6HV4gZ2--xJEEs_m-wXr_g   \n",
       "166275  X2u0TjNObu50lRvO3UGhIQ   \n",
       "39071   FkhXtc0Rd6WsIG6AzvA5_A   \n",
       "122615  w_Ii5zDPxVlpV7wZ85gFHA   \n",
       "56657   -oR3wYUZ4FpZRbCmWtbt1Q   \n",
       "169201  gDHKZhANxyHhjyrVyUWMug   \n",
       "\n",
       "                                                  caption  \n",
       "44542   Bigeye Tuna Poke : Roasted Macadamia Nuts, Fri...  \n",
       "202839                                         Taco salad  \n",
       "170180                                   Top Marmorierung  \n",
       "115885                                            Com Dia  \n",
       "47893                        Kung Pao Beef and Fried Rice  \n",
       "75167                                    Shitake Mushroom  \n",
       "55510                       Vanilla caramel bourbon shake  \n",
       "180540                                        Sushi delux  \n",
       "103121                       Duo de crevette et petoncle.  \n",
       "115649  Appetizer Cold Beef dish -  tasty but chewy be...  \n",
       "109581                              At every table. Nice.  \n",
       "24578                                       Beef Sandwich  \n",
       "49697                                   AMAZING foie gras  \n",
       "128524  Chicken teriyaki ....she makes her own teriyak...  \n",
       "149811                                Kimchi Saimen $3.50  \n",
       "166275                                    Frutti di mare.  \n",
       "39071                                              Buffet  \n",
       "122615                              tempura with the udon  \n",
       "56657                                 Private party setup  \n",
       "169201  Baguette and Bacon Brioche, Butter and Sea Sal...  "
      ]
     },
     "execution_count": 262,
     "metadata": {},
     "output_type": "execute_result"
    }
   ],
   "source": [
    "df_full[['photo_id', 'caption']].sample(20)"
   ]
  },
  {
   "cell_type": "markdown",
   "metadata": {},
   "source": [
    "## 3. Text cleaning\n",
    "\n",
    "Before I save the captions, it will be a good idea to clean the texts. "
   ]
  },
  {
   "cell_type": "markdown",
   "metadata": {},
   "source": [
    "First, remove newline caracters from the captions:"
   ]
  },
  {
   "cell_type": "code",
   "execution_count": 263,
   "metadata": {},
   "outputs": [
    {
     "name": "stderr",
     "output_type": "stream",
     "text": [
      "/usr/local/lib/python3.6/site-packages/ipykernel_launcher.py:1: SettingWithCopyWarning: \n",
      "A value is trying to be set on a copy of a slice from a DataFrame.\n",
      "Try using .loc[row_indexer,col_indexer] = value instead\n",
      "\n",
      "See the caveats in the documentation: http://pandas.pydata.org/pandas-docs/stable/indexing.html#indexing-view-versus-copy\n",
      "  \"\"\"Entry point for launching an IPython kernel.\n"
     ]
    }
   ],
   "source": [
    "df_full['caption'] = df_full['caption'].apply(lambda x: re.sub(string = x, pattern = r'(\\n|\\r)', repl = \" \"))"
   ]
  },
  {
   "cell_type": "markdown",
   "metadata": {},
   "source": [
    "Now, I've noticed that many catpions have the \"and\" character `&` - such as in \"sweet & spicy\". Later, I'll remove punctuations, but for coherency it will be useful to replace the `&` character with a native \"and\"."
   ]
  },
  {
   "cell_type": "code",
   "execution_count": 264,
   "metadata": {},
   "outputs": [
    {
     "name": "stderr",
     "output_type": "stream",
     "text": [
      "/usr/local/lib/python3.6/site-packages/pandas/core/generic.py:4619: SettingWithCopyWarning: \n",
      "A value is trying to be set on a copy of a slice from a DataFrame\n",
      "\n",
      "See the caveats in the documentation: http://pandas.pydata.org/pandas-docs/stable/indexing.html#indexing-view-versus-copy\n",
      "  self._update_inplace(new_data)\n"
     ]
    }
   ],
   "source": [
    "df_full['caption'].replace(\"\\&\", \" and \", regex = True, inplace = True)"
   ]
  },
  {
   "cell_type": "markdown",
   "metadata": {},
   "source": [
    "Another common use of punctuation is for websites: for example _https://www.greatfood.com_. These will likely not be in a word embedding dictionary. If we replace all website-like strings with a common token, say **website**, it will be easier to learn more interesting patterns across captions, and reduce our vocabulary size. "
   ]
  },
  {
   "cell_type": "code",
   "execution_count": 265,
   "metadata": {},
   "outputs": [
    {
     "name": "stderr",
     "output_type": "stream",
     "text": [
      "/usr/local/lib/python3.6/site-packages/pandas/core/generic.py:4619: SettingWithCopyWarning: \n",
      "A value is trying to be set on a copy of a slice from a DataFrame\n",
      "\n",
      "See the caveats in the documentation: http://pandas.pydata.org/pandas-docs/stable/indexing.html#indexing-view-versus-copy\n",
      "  self._update_inplace(new_data)\n"
     ]
    }
   ],
   "source": [
    "df_full.caption.replace(\"[a-z\\:\\/\\.0-9]+\\.(org|com|net)\", \" website \", regex = True, inplace = True)"
   ]
  },
  {
   "cell_type": "markdown",
   "metadata": {},
   "source": [
    "Removing numbers and replacing it with a token, say **num**"
   ]
  },
  {
   "cell_type": "code",
   "execution_count": 266,
   "metadata": {},
   "outputs": [
    {
     "name": "stderr",
     "output_type": "stream",
     "text": [
      "/usr/local/lib/python3.6/site-packages/pandas/core/generic.py:4619: SettingWithCopyWarning: \n",
      "A value is trying to be set on a copy of a slice from a DataFrame\n",
      "\n",
      "See the caveats in the documentation: http://pandas.pydata.org/pandas-docs/stable/indexing.html#indexing-view-versus-copy\n",
      "  self._update_inplace(new_data)\n"
     ]
    }
   ],
   "source": [
    "df_full.caption.replace(\"([0-9]+ |)[0-9]+\", \" num \", regex = True, inplace=True)"
   ]
  },
  {
   "cell_type": "markdown",
   "metadata": {},
   "source": [
    "Now, converting unicode to ascii characters. This will convert strings like \"hélen\" to \"helen\". This will help reduce our vocabulary size, as some people write the same words with/without accents. "
   ]
  },
  {
   "cell_type": "code",
   "execution_count": 267,
   "metadata": {},
   "outputs": [
    {
     "name": "stderr",
     "output_type": "stream",
     "text": [
      "/usr/local/lib/python3.6/site-packages/pandas/core/generic.py:3643: SettingWithCopyWarning: \n",
      "A value is trying to be set on a copy of a slice from a DataFrame.\n",
      "Try using .loc[row_indexer,col_indexer] = value instead\n",
      "\n",
      "See the caveats in the documentation: http://pandas.pydata.org/pandas-docs/stable/indexing.html#indexing-view-versus-copy\n",
      "  self[name] = value\n"
     ]
    }
   ],
   "source": [
    "df_full.caption = df_full.caption.apply(lambda x: unidecode.unidecode(x))"
   ]
  },
  {
   "cell_type": "markdown",
   "metadata": {},
   "source": [
    "Removing punctuation"
   ]
  },
  {
   "cell_type": "code",
   "execution_count": 268,
   "metadata": {},
   "outputs": [
    {
     "name": "stderr",
     "output_type": "stream",
     "text": [
      "/usr/local/lib/python3.6/site-packages/ipykernel_launcher.py:2: SettingWithCopyWarning: \n",
      "A value is trying to be set on a copy of a slice from a DataFrame.\n",
      "Try using .loc[row_indexer,col_indexer] = value instead\n",
      "\n",
      "See the caveats in the documentation: http://pandas.pydata.org/pandas-docs/stable/indexing.html#indexing-view-versus-copy\n",
      "  \n"
     ]
    }
   ],
   "source": [
    "trans_table = str.maketrans('', '', string.punctuation + \"–\")\n",
    "df_full['caption'] = df_full['caption'].apply(lambda x: x.translate(trans_table))"
   ]
  },
  {
   "cell_type": "markdown",
   "metadata": {},
   "source": [
    "Lowercasing, and stripping whitespaces"
   ]
  },
  {
   "cell_type": "code",
   "execution_count": 269,
   "metadata": {},
   "outputs": [
    {
     "name": "stderr",
     "output_type": "stream",
     "text": [
      "/usr/local/lib/python3.6/site-packages/pandas/core/generic.py:3643: SettingWithCopyWarning: \n",
      "A value is trying to be set on a copy of a slice from a DataFrame.\n",
      "Try using .loc[row_indexer,col_indexer] = value instead\n",
      "\n",
      "See the caveats in the documentation: http://pandas.pydata.org/pandas-docs/stable/indexing.html#indexing-view-versus-copy\n",
      "  self[name] = value\n"
     ]
    }
   ],
   "source": [
    "df_full.caption = df_full.caption.apply(lambda x: x.lower().strip())"
   ]
  },
  {
   "cell_type": "code",
   "execution_count": 278,
   "metadata": {},
   "outputs": [
    {
     "data": {
      "text/html": [
       "<div>\n",
       "<style scoped>\n",
       "    .dataframe tbody tr th:only-of-type {\n",
       "        vertical-align: middle;\n",
       "    }\n",
       "\n",
       "    .dataframe tbody tr th {\n",
       "        vertical-align: top;\n",
       "    }\n",
       "\n",
       "    .dataframe thead th {\n",
       "        text-align: right;\n",
       "    }\n",
       "</style>\n",
       "<table border=\"1\" class=\"dataframe\">\n",
       "  <thead>\n",
       "    <tr style=\"text-align: right;\">\n",
       "      <th></th>\n",
       "      <th>photo_id</th>\n",
       "      <th>caption</th>\n",
       "    </tr>\n",
       "  </thead>\n",
       "  <tbody>\n",
       "    <tr>\n",
       "      <th>124699</th>\n",
       "      <td>mWkW2iw8UpCu_FQvZYZgPg</td>\n",
       "      <td>devilled eggs  smoked bacon  herbs  souffletin...</td>\n",
       "    </tr>\n",
       "    <tr>\n",
       "      <th>131325</th>\n",
       "      <td>nfNSrMdVUobXmG2WtEkdhA</td>\n",
       "      <td>german chocolate cake slice</td>\n",
       "    </tr>\n",
       "    <tr>\n",
       "      <th>69622</th>\n",
       "      <td>T_kSjt7N-oD3GPhbtmeAhA</td>\n",
       "      <td>enjoying lunch at sonatas</td>\n",
       "    </tr>\n",
       "    <tr>\n",
       "      <th>138284</th>\n",
       "      <td>3t_vXBifzA69pviaz4gNww</td>\n",
       "      <td>ninja sushi and hiba hi</td>\n",
       "    </tr>\n",
       "    <tr>\n",
       "      <th>5781</th>\n",
       "      <td>ajUpavvax7YvlJW0fKsywA</td>\n",
       "      <td>veggie egg rolls</td>\n",
       "    </tr>\n",
       "    <tr>\n",
       "      <th>39846</th>\n",
       "      <td>t-xNrdtz1hR4Azk-navtFA</td>\n",
       "      <td>guacamole and bacon burger</td>\n",
       "    </tr>\n",
       "    <tr>\n",
       "      <th>33935</th>\n",
       "      <td>cv6CoBtd2IqWE4tTvP3KKA</td>\n",
       "      <td>lgros luxe cocktails and food</td>\n",
       "    </tr>\n",
       "    <tr>\n",
       "      <th>74004</th>\n",
       "      <td>ObdtJYhONq53Z9t0IsuiBw</td>\n",
       "      <td>duck  and  waffles</td>\n",
       "    </tr>\n",
       "    <tr>\n",
       "      <th>108374</th>\n",
       "      <td>vhiARXfAWyLvL4jGq7TX_A</td>\n",
       "      <td>initial table setting they take them away imme...</td>\n",
       "    </tr>\n",
       "    <tr>\n",
       "      <th>29983</th>\n",
       "      <td>__oEMTjoOi7NHyNfNgb2Jg</td>\n",
       "      <td>tempura</td>\n",
       "    </tr>\n",
       "    <tr>\n",
       "      <th>50637</th>\n",
       "      <td>G-kaTC8X3mowb2lzizjC1Q</td>\n",
       "      <td>garage boys killin it</td>\n",
       "    </tr>\n",
       "    <tr>\n",
       "      <th>138449</th>\n",
       "      <td>W-u0tLml8ZaaJzPXgNrZXQ</td>\n",
       "      <td>mushroom pizza</td>\n",
       "    </tr>\n",
       "    <tr>\n",
       "      <th>72603</th>\n",
       "      <td>eeAirsSzaGT3LM2c_R4G4Q</td>\n",
       "      <td>num  per song or no song at all paid  num  for...</td>\n",
       "    </tr>\n",
       "    <tr>\n",
       "      <th>178385</th>\n",
       "      <td>QN7OQysnK6oTVqRpek2kdA</td>\n",
       "      <td>beef jerky one sun beef for  num  num</td>\n",
       "    </tr>\n",
       "    <tr>\n",
       "      <th>36510</th>\n",
       "      <td>a3QEbQZE2pSAI8uXSx-7LQ</td>\n",
       "      <td>lobster mac n cheese</td>\n",
       "    </tr>\n",
       "    <tr>\n",
       "      <th>134090</th>\n",
       "      <td>zF9xylXb2cwn7ydd4MLPsQ</td>\n",
       "      <td>oxtail chili cheese fries  num  num  garlic ai...</td>\n",
       "    </tr>\n",
       "    <tr>\n",
       "      <th>128483</th>\n",
       "      <td>V5C540Qq9MJUn7Q0NkMesQ</td>\n",
       "      <td>lg  num  scoop salmonspicy tunascalloptuna pok...</td>\n",
       "    </tr>\n",
       "    <tr>\n",
       "      <th>185174</th>\n",
       "      <td>8Xkpv_D42D8oaGp4t259wg</td>\n",
       "      <td>blueberry buttermilk pancakes with caramel butter</td>\n",
       "    </tr>\n",
       "    <tr>\n",
       "      <th>125766</th>\n",
       "      <td>k50IOn3LXCIYM2lrIWfRaQ</td>\n",
       "      <td>summer dog  num</td>\n",
       "    </tr>\n",
       "    <tr>\n",
       "      <th>78195</th>\n",
       "      <td>FIW9aYPQoCKfNqYr-XPKow</td>\n",
       "      <td>smells like mojitos everywhere</td>\n",
       "    </tr>\n",
       "  </tbody>\n",
       "</table>\n",
       "</div>"
      ],
      "text/plain": [
       "                      photo_id  \\\n",
       "124699  mWkW2iw8UpCu_FQvZYZgPg   \n",
       "131325  nfNSrMdVUobXmG2WtEkdhA   \n",
       "69622   T_kSjt7N-oD3GPhbtmeAhA   \n",
       "138284  3t_vXBifzA69pviaz4gNww   \n",
       "5781    ajUpavvax7YvlJW0fKsywA   \n",
       "39846   t-xNrdtz1hR4Azk-navtFA   \n",
       "33935   cv6CoBtd2IqWE4tTvP3KKA   \n",
       "74004   ObdtJYhONq53Z9t0IsuiBw   \n",
       "108374  vhiARXfAWyLvL4jGq7TX_A   \n",
       "29983   __oEMTjoOi7NHyNfNgb2Jg   \n",
       "50637   G-kaTC8X3mowb2lzizjC1Q   \n",
       "138449  W-u0tLml8ZaaJzPXgNrZXQ   \n",
       "72603   eeAirsSzaGT3LM2c_R4G4Q   \n",
       "178385  QN7OQysnK6oTVqRpek2kdA   \n",
       "36510   a3QEbQZE2pSAI8uXSx-7LQ   \n",
       "134090  zF9xylXb2cwn7ydd4MLPsQ   \n",
       "128483  V5C540Qq9MJUn7Q0NkMesQ   \n",
       "185174  8Xkpv_D42D8oaGp4t259wg   \n",
       "125766  k50IOn3LXCIYM2lrIWfRaQ   \n",
       "78195   FIW9aYPQoCKfNqYr-XPKow   \n",
       "\n",
       "                                                  caption  \n",
       "124699  devilled eggs  smoked bacon  herbs  souffletin...  \n",
       "131325                        german chocolate cake slice  \n",
       "69622                           enjoying lunch at sonatas  \n",
       "138284                            ninja sushi and hiba hi  \n",
       "5781                                     veggie egg rolls  \n",
       "39846                          guacamole and bacon burger  \n",
       "33935                       lgros luxe cocktails and food  \n",
       "74004                                  duck  and  waffles  \n",
       "108374  initial table setting they take them away imme...  \n",
       "29983                                             tempura  \n",
       "50637                               garage boys killin it  \n",
       "138449                                     mushroom pizza  \n",
       "72603   num  per song or no song at all paid  num  for...  \n",
       "178385              beef jerky one sun beef for  num  num  \n",
       "36510                                lobster mac n cheese  \n",
       "134090  oxtail chili cheese fries  num  num  garlic ai...  \n",
       "128483  lg  num  scoop salmonspicy tunascalloptuna pok...  \n",
       "185174  blueberry buttermilk pancakes with caramel butter  \n",
       "125766                                    summer dog  num  \n",
       "78195                      smells like mojitos everywhere  "
      ]
     },
     "execution_count": 278,
     "metadata": {},
     "output_type": "execute_result"
    }
   ],
   "source": [
    "df_full[['photo_id', 'caption']].sample(20)"
   ]
  },
  {
   "cell_type": "markdown",
   "metadata": {},
   "source": [
    "## 4. Seperate dataset\n",
    "\n",
    "Now, I seperate the photos with captions into train and validation splits. Those which don't have captions are set aside for later, and can be our \"playground\" set."
   ]
  },
  {
   "cell_type": "code",
   "execution_count": 279,
   "metadata": {},
   "outputs": [],
   "source": [
    "# create a vector that will index the training data\n",
    "train_idx = np.repeat(False, df_full.shape[0])\n",
    "np.random.seed(8)\n",
    "train_idx[np.random.choice(a = int(len(train_idx)), size = int(.8*len(train_idx)), replace = False)] = True\n",
    "\n",
    "# a vector that indexes the validation data\n",
    "valid_idx = np.logical_not(train_idx)"
   ]
  },
  {
   "cell_type": "code",
   "execution_count": 280,
   "metadata": {},
   "outputs": [
    {
     "name": "stdout",
     "output_type": "stream",
     "text": [
      "True\n",
      "True\n"
     ]
    }
   ],
   "source": [
    "# making sure that one is true and the other is not\n",
    "print(np.sum(np.logical_and(train_idx, valid_idx)) == 0)\n",
    "print(np.sum(np.logical_or(train_idx, valid_idx)) == df_full.shape[0])\n"
   ]
  },
  {
   "cell_type": "code",
   "execution_count": 281,
   "metadata": {},
   "outputs": [],
   "source": [
    "# isolating training and validation set\n",
    "df_train = df_full[['photo_id', 'caption']][train_idx]\n",
    "df_valid = df_full[['photo_id', 'caption']][valid_idx]"
   ]
  },
  {
   "cell_type": "code",
   "execution_count": 31,
   "metadata": {},
   "outputs": [
    {
     "name": "stdout",
     "output_type": "stream",
     "text": [
      "mkdir: ../data/split_lists: File exists\r\n"
     ]
    }
   ],
   "source": [
    "mkdir ../data/split_lists"
   ]
  },
  {
   "cell_type": "code",
   "execution_count": 282,
   "metadata": {},
   "outputs": [],
   "source": [
    "df_train.to_csv(\"../data/split_lists/train_ids.csv\", index = False)\n",
    "df_valid.to_csv(\"../data/split_lists/valid_ids.csv\", index = False)"
   ]
  },
  {
   "cell_type": "code",
   "execution_count": 283,
   "metadata": {},
   "outputs": [],
   "source": [
    "# isolate the list of photo id's that don't have a caption\n",
    "df_missing[['photo_id']].to_csv(\"../data/split_lists/playground_ids.csv\", index = False)"
   ]
  },
  {
   "cell_type": "code",
   "execution_count": 254,
   "metadata": {},
   "outputs": [
    {
     "name": "stdout",
     "output_type": "stream",
     "text": [
      "total 7048\r\n",
      "-rw-r--r--  1 timibennatan  staff  2441275 May  6 10:46 playground_ids.csv\r\n",
      "-rw-r--r--@ 1 timibennatan  staff  4680466 May  6 10:46 train_ids.csv\r\n",
      "-rw-r--r--  1 timibennatan  staff  1160594 May  6 10:46 valid_ids.csv\r\n"
     ]
    }
   ],
   "source": [
    "ls -l ../data/split_lists/"
   ]
  },
  {
   "cell_type": "markdown",
   "metadata": {},
   "source": [
    "K. Peace. "
   ]
  },
  {
   "cell_type": "code",
   "execution_count": 286,
   "metadata": {},
   "outputs": [
    {
     "data": {
      "text/html": [
       "<div>\n",
       "<style scoped>\n",
       "    .dataframe tbody tr th:only-of-type {\n",
       "        vertical-align: middle;\n",
       "    }\n",
       "\n",
       "    .dataframe tbody tr th {\n",
       "        vertical-align: top;\n",
       "    }\n",
       "\n",
       "    .dataframe thead th {\n",
       "        text-align: right;\n",
       "    }\n",
       "</style>\n",
       "<table border=\"1\" class=\"dataframe\">\n",
       "  <thead>\n",
       "    <tr style=\"text-align: right;\">\n",
       "      <th></th>\n",
       "      <th>photo_id</th>\n",
       "      <th>caption</th>\n",
       "    </tr>\n",
       "  </thead>\n",
       "  <tbody>\n",
       "    <tr>\n",
       "      <th>18</th>\n",
       "      <td>_ExrVJTjGcChfzLH51etAw</td>\n",
       "      <td>shanghai rainbow trout</td>\n",
       "    </tr>\n",
       "    <tr>\n",
       "      <th>20</th>\n",
       "      <td>yPUPhsJvT6yx6l8QwShw1Q</td>\n",
       "      <td>grill rainbow trout</td>\n",
       "    </tr>\n",
       "    <tr>\n",
       "      <th>28</th>\n",
       "      <td>zvESg-w2JIBL5FhU7F2d-g</td>\n",
       "      <td>chicken parm</td>\n",
       "    </tr>\n",
       "    <tr>\n",
       "      <th>45</th>\n",
       "      <td>uqdXqfB8MXW6XU7Hk1gGIQ</td>\n",
       "      <td>mcg holiday jazz</td>\n",
       "    </tr>\n",
       "    <tr>\n",
       "      <th>69</th>\n",
       "      <td>VMedbsDZnCxmCE3Pndvtng</td>\n",
       "      <td>dining room</td>\n",
       "    </tr>\n",
       "    <tr>\n",
       "      <th>80</th>\n",
       "      <td>Y3OxcrMgt_wvxPqVNq5tPg</td>\n",
       "      <td>meatloaf is back topped with bob evans wildfir...</td>\n",
       "    </tr>\n",
       "    <tr>\n",
       "      <th>84</th>\n",
       "      <td>ACfgPpp3q6oaO0ytpx3cgw</td>\n",
       "      <td>quaint bar</td>\n",
       "    </tr>\n",
       "    <tr>\n",
       "      <th>85</th>\n",
       "      <td>bw1IaF8FVcmShr6xbE0umA</td>\n",
       "      <td>jerk quesadillas and empty crab soup bowl</td>\n",
       "    </tr>\n",
       "    <tr>\n",
       "      <th>128</th>\n",
       "      <td>q6VRi5FwTMqffR5bsuRumQ</td>\n",
       "      <td>table seating to the left</td>\n",
       "    </tr>\n",
       "    <tr>\n",
       "      <th>133</th>\n",
       "      <td>MZ6lyOh87ELi3S3Re3r5IQ</td>\n",
       "      <td>seafood variety platters</td>\n",
       "    </tr>\n",
       "    <tr>\n",
       "      <th>158</th>\n",
       "      <td>J4kY0vanHHvkjpim7vr8nA</td>\n",
       "      <td>crab is fabulous and fresh</td>\n",
       "    </tr>\n",
       "    <tr>\n",
       "      <th>163</th>\n",
       "      <td>xSz613eZo8w-xeaskD49Hw</td>\n",
       "      <td>tanks of fresh seafood</td>\n",
       "    </tr>\n",
       "    <tr>\n",
       "      <th>164</th>\n",
       "      <td>Hg5ccIqxc_hBOFSYVH_zlg</td>\n",
       "      <td>yang zhou chao fan</td>\n",
       "    </tr>\n",
       "    <tr>\n",
       "      <th>167</th>\n",
       "      <td>nmSUbbG76FbPRTCPG7NTdA</td>\n",
       "      <td>the arizona sun</td>\n",
       "    </tr>\n",
       "    <tr>\n",
       "      <th>216</th>\n",
       "      <td>g3go6_1SMFFp6eMZCjCHkQ</td>\n",
       "      <td>main dining area</td>\n",
       "    </tr>\n",
       "    <tr>\n",
       "      <th>218</th>\n",
       "      <td>i52-1DaE8XRyDbrJ-5aTDQ</td>\n",
       "      <td>ika mentai</td>\n",
       "    </tr>\n",
       "    <tr>\n",
       "      <th>219</th>\n",
       "      <td>JtZt13ybK4dfMotLmav55g</td>\n",
       "      <td>note the manekiniko the beckoning cat has both...</td>\n",
       "    </tr>\n",
       "    <tr>\n",
       "      <th>221</th>\n",
       "      <td>8WJ37XdGFEChjTQ65MzvFg</td>\n",
       "      <td>udon suki</td>\n",
       "    </tr>\n",
       "    <tr>\n",
       "      <th>224</th>\n",
       "      <td>iyiFyYl_cESqwG6MfpCNDw</td>\n",
       "      <td>dessert</td>\n",
       "    </tr>\n",
       "    <tr>\n",
       "      <th>226</th>\n",
       "      <td>nGaIoK6FbFWCBAzjoxuS6A</td>\n",
       "      <td>ebi soba</td>\n",
       "    </tr>\n",
       "  </tbody>\n",
       "</table>\n",
       "</div>"
      ],
      "text/plain": [
       "                   photo_id                                            caption\n",
       "18   _ExrVJTjGcChfzLH51etAw                             shanghai rainbow trout\n",
       "20   yPUPhsJvT6yx6l8QwShw1Q                                grill rainbow trout\n",
       "28   zvESg-w2JIBL5FhU7F2d-g                                       chicken parm\n",
       "45   uqdXqfB8MXW6XU7Hk1gGIQ                                   mcg holiday jazz\n",
       "69   VMedbsDZnCxmCE3Pndvtng                                        dining room\n",
       "80   Y3OxcrMgt_wvxPqVNq5tPg  meatloaf is back topped with bob evans wildfir...\n",
       "84   ACfgPpp3q6oaO0ytpx3cgw                                         quaint bar\n",
       "85   bw1IaF8FVcmShr6xbE0umA          jerk quesadillas and empty crab soup bowl\n",
       "128  q6VRi5FwTMqffR5bsuRumQ                          table seating to the left\n",
       "133  MZ6lyOh87ELi3S3Re3r5IQ                           seafood variety platters\n",
       "158  J4kY0vanHHvkjpim7vr8nA                         crab is fabulous and fresh\n",
       "163  xSz613eZo8w-xeaskD49Hw                             tanks of fresh seafood\n",
       "164  Hg5ccIqxc_hBOFSYVH_zlg                                 yang zhou chao fan\n",
       "167  nmSUbbG76FbPRTCPG7NTdA                                    the arizona sun\n",
       "216  g3go6_1SMFFp6eMZCjCHkQ                                   main dining area\n",
       "218  i52-1DaE8XRyDbrJ-5aTDQ                                         ika mentai\n",
       "219  JtZt13ybK4dfMotLmav55g  note the manekiniko the beckoning cat has both...\n",
       "221  8WJ37XdGFEChjTQ65MzvFg                                          udon suki\n",
       "224  iyiFyYl_cESqwG6MfpCNDw                                            dessert\n",
       "226  nGaIoK6FbFWCBAzjoxuS6A                                           ebi soba"
      ]
     },
     "execution_count": 286,
     "metadata": {},
     "output_type": "execute_result"
    }
   ],
   "source": [
    "df_valid.head(20)"
   ]
  }
 ],
 "metadata": {
  "kernelspec": {
   "display_name": "Python 3",
   "language": "python",
   "name": "python3"
  },
  "language_info": {
   "codemirror_mode": {
    "name": "ipython",
    "version": 3
   },
   "file_extension": ".py",
   "mimetype": "text/x-python",
   "name": "python",
   "nbconvert_exporter": "python",
   "pygments_lexer": "ipython3",
   "version": "3.6.4"
  }
 },
 "nbformat": 4,
 "nbformat_minor": 2
}
