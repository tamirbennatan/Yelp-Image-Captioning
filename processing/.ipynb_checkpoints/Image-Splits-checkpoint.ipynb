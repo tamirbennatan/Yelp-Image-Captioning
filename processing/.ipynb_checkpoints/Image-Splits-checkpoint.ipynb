{
 "cells": [
  {
   "cell_type": "code",
   "execution_count": 197,
   "metadata": {},
   "outputs": [],
   "source": [
    "import pandas as pd\n",
    "import numpy as np\n",
    "import os\n",
    "import re\n",
    "import string\n",
    "from collections import defaultdict\n",
    "import unidecode "
   ]
  },
  {
   "cell_type": "markdown",
   "metadata": {},
   "source": [
    "# Create Image Splits\n",
    "\n",
    "In this notebook I split the 206949 photos provided into those that have captions, and those that don't. Then I further split the photos which have captions into training and developement sets, for the use of hyperparameter tuning in future experiments. "
   ]
  },
  {
   "cell_type": "markdown",
   "metadata": {},
   "source": [
    "## 1. Load image metadata\n",
    "\n",
    "The file `photos.json`, downloaded directly from [the yelp dataset page](https://www.yelp.com/dataset/download), lists the photo and business identifier for each of the photos. The caption (if any), are also provided. "
   ]
  },
  {
   "cell_type": "code",
   "execution_count": 3,
   "metadata": {},
   "outputs": [],
   "source": [
    "df = pd.read_json(\"../data/yelp_photos/photos.json\", lines = True)"
   ]
  },
  {
   "cell_type": "code",
   "execution_count": 14,
   "metadata": {},
   "outputs": [
    {
     "data": {
      "text/html": [
       "<div>\n",
       "<style scoped>\n",
       "    .dataframe tbody tr th:only-of-type {\n",
       "        vertical-align: middle;\n",
       "    }\n",
       "\n",
       "    .dataframe tbody tr th {\n",
       "        vertical-align: top;\n",
       "    }\n",
       "\n",
       "    .dataframe thead th {\n",
       "        text-align: right;\n",
       "    }\n",
       "</style>\n",
       "<table border=\"1\" class=\"dataframe\">\n",
       "  <thead>\n",
       "    <tr style=\"text-align: right;\">\n",
       "      <th></th>\n",
       "      <th>business_id</th>\n",
       "      <th>caption</th>\n",
       "      <th>label</th>\n",
       "      <th>photo_id</th>\n",
       "    </tr>\n",
       "  </thead>\n",
       "  <tbody>\n",
       "    <tr>\n",
       "      <th>0</th>\n",
       "      <td>OnAzbTDn79W6CFZIriqLrA</td>\n",
       "      <td></td>\n",
       "      <td>inside</td>\n",
       "      <td>soK1szeyan202jnsGhUDmA</td>\n",
       "    </tr>\n",
       "    <tr>\n",
       "      <th>1</th>\n",
       "      <td>OnAzbTDn79W6CFZIriqLrA</td>\n",
       "      <td></td>\n",
       "      <td>inside</td>\n",
       "      <td>dU7AyRB_fHOZkflodEyN5A</td>\n",
       "    </tr>\n",
       "    <tr>\n",
       "      <th>2</th>\n",
       "      <td>OnAzbTDn79W6CFZIriqLrA</td>\n",
       "      <td></td>\n",
       "      <td>outside</td>\n",
       "      <td>6T1qlbBdKkXA1cDNqMjg2g</td>\n",
       "    </tr>\n",
       "    <tr>\n",
       "      <th>3</th>\n",
       "      <td>OnAzbTDn79W6CFZIriqLrA</td>\n",
       "      <td>Bakery area</td>\n",
       "      <td>inside</td>\n",
       "      <td>lHhMNhCA7rAZmi-MMfF3ZA</td>\n",
       "    </tr>\n",
       "    <tr>\n",
       "      <th>4</th>\n",
       "      <td>XaeCGHZzsMwvFcHYq3q9sA</td>\n",
       "      <td></td>\n",
       "      <td>food</td>\n",
       "      <td>oHSCeyoK9oLIGaCZq-wRJw</td>\n",
       "    </tr>\n",
       "    <tr>\n",
       "      <th>5</th>\n",
       "      <td>XaeCGHZzsMwvFcHYq3q9sA</td>\n",
       "      <td></td>\n",
       "      <td>food</td>\n",
       "      <td>EN9qzZpxfv00B_4X6q5lYA</td>\n",
       "    </tr>\n",
       "    <tr>\n",
       "      <th>6</th>\n",
       "      <td>XaeCGHZzsMwvFcHYq3q9sA</td>\n",
       "      <td></td>\n",
       "      <td>food</td>\n",
       "      <td>M6c0qxQQwWkUzAxIvoTFuQ</td>\n",
       "    </tr>\n",
       "    <tr>\n",
       "      <th>7</th>\n",
       "      <td>XaeCGHZzsMwvFcHYq3q9sA</td>\n",
       "      <td></td>\n",
       "      <td>food</td>\n",
       "      <td>876EKnk6deA7xA4i1aipJg</td>\n",
       "    </tr>\n",
       "    <tr>\n",
       "      <th>8</th>\n",
       "      <td>XaeCGHZzsMwvFcHYq3q9sA</td>\n",
       "      <td></td>\n",
       "      <td>food</td>\n",
       "      <td>NFCDwGr_-TEiw9bzx3nFKw</td>\n",
       "    </tr>\n",
       "    <tr>\n",
       "      <th>9</th>\n",
       "      <td>XaeCGHZzsMwvFcHYq3q9sA</td>\n",
       "      <td></td>\n",
       "      <td>food</td>\n",
       "      <td>YDmNsu38Nk2rPZMFEWBzvw</td>\n",
       "    </tr>\n",
       "    <tr>\n",
       "      <th>10</th>\n",
       "      <td>4l56EXyCWwPlPXcX9qq-jw</td>\n",
       "      <td></td>\n",
       "      <td>inside</td>\n",
       "      <td>UIx1UZw3ohK95t3DJC46bA</td>\n",
       "    </tr>\n",
       "    <tr>\n",
       "      <th>11</th>\n",
       "      <td>QqpzPFFHeHqyWSPZI-DkvQ</td>\n",
       "      <td>The Hangar's house band, Tuned Up. Check our C...</td>\n",
       "      <td>inside</td>\n",
       "      <td>kHrkA-8BY4tC-rejiJNhBQ</td>\n",
       "    </tr>\n",
       "    <tr>\n",
       "      <th>12</th>\n",
       "      <td>77N3luh2YzfJFJGFIfqqbw</td>\n",
       "      <td>That's The man's butt. Ask him about beer (ale...</td>\n",
       "      <td>inside</td>\n",
       "      <td>ljStFDx0XFg8jSbJIRhvGA</td>\n",
       "    </tr>\n",
       "    <tr>\n",
       "      <th>13</th>\n",
       "      <td>77N3luh2YzfJFJGFIfqqbw</td>\n",
       "      <td></td>\n",
       "      <td>inside</td>\n",
       "      <td>eVSK-mJ2qtusnqqsCwuXGw</td>\n",
       "    </tr>\n",
       "    <tr>\n",
       "      <th>14</th>\n",
       "      <td>3nR6JE3hD-D-Fhzr10_k7g</td>\n",
       "      <td></td>\n",
       "      <td>food</td>\n",
       "      <td>wjbdjtiBQciSBY9KzzBUIA</td>\n",
       "    </tr>\n",
       "    <tr>\n",
       "      <th>15</th>\n",
       "      <td>3nR6JE3hD-D-Fhzr10_k7g</td>\n",
       "      <td>BBQ Shrimp</td>\n",
       "      <td>food</td>\n",
       "      <td>JoB_QTE2Hjr1NT0AgYdWzQ</td>\n",
       "    </tr>\n",
       "    <tr>\n",
       "      <th>16</th>\n",
       "      <td>3nR6JE3hD-D-Fhzr10_k7g</td>\n",
       "      <td>Sharkfin Pie</td>\n",
       "      <td>food</td>\n",
       "      <td>PvdNq213kqk7N9raOcefEw</td>\n",
       "    </tr>\n",
       "    <tr>\n",
       "      <th>17</th>\n",
       "      <td>3nR6JE3hD-D-Fhzr10_k7g</td>\n",
       "      <td>I love mussels</td>\n",
       "      <td>food</td>\n",
       "      <td>jQyiq-HX3mUCXOyQ0lc0QA</td>\n",
       "    </tr>\n",
       "    <tr>\n",
       "      <th>18</th>\n",
       "      <td>3nR6JE3hD-D-Fhzr10_k7g</td>\n",
       "      <td>shanghai rainbow trout</td>\n",
       "      <td>food</td>\n",
       "      <td>_ExrVJTjGcChfzLH51etAw</td>\n",
       "    </tr>\n",
       "    <tr>\n",
       "      <th>19</th>\n",
       "      <td>3nR6JE3hD-D-Fhzr10_k7g</td>\n",
       "      <td>crispy ginger cod fish</td>\n",
       "      <td>food</td>\n",
       "      <td>Ex6bzPB9ZrKiSX0fnBvhfA</td>\n",
       "    </tr>\n",
       "  </tbody>\n",
       "</table>\n",
       "</div>"
      ],
      "text/plain": [
       "               business_id                                            caption  \\\n",
       "0   OnAzbTDn79W6CFZIriqLrA                                                      \n",
       "1   OnAzbTDn79W6CFZIriqLrA                                                      \n",
       "2   OnAzbTDn79W6CFZIriqLrA                                                      \n",
       "3   OnAzbTDn79W6CFZIriqLrA                                        Bakery area   \n",
       "4   XaeCGHZzsMwvFcHYq3q9sA                                                      \n",
       "5   XaeCGHZzsMwvFcHYq3q9sA                                                      \n",
       "6   XaeCGHZzsMwvFcHYq3q9sA                                                      \n",
       "7   XaeCGHZzsMwvFcHYq3q9sA                                                      \n",
       "8   XaeCGHZzsMwvFcHYq3q9sA                                                      \n",
       "9   XaeCGHZzsMwvFcHYq3q9sA                                                      \n",
       "10  4l56EXyCWwPlPXcX9qq-jw                                                      \n",
       "11  QqpzPFFHeHqyWSPZI-DkvQ  The Hangar's house band, Tuned Up. Check our C...   \n",
       "12  77N3luh2YzfJFJGFIfqqbw  That's The man's butt. Ask him about beer (ale...   \n",
       "13  77N3luh2YzfJFJGFIfqqbw                                                      \n",
       "14  3nR6JE3hD-D-Fhzr10_k7g                                                      \n",
       "15  3nR6JE3hD-D-Fhzr10_k7g                                         BBQ Shrimp   \n",
       "16  3nR6JE3hD-D-Fhzr10_k7g                                       Sharkfin Pie   \n",
       "17  3nR6JE3hD-D-Fhzr10_k7g                                     I love mussels   \n",
       "18  3nR6JE3hD-D-Fhzr10_k7g                             shanghai rainbow trout   \n",
       "19  3nR6JE3hD-D-Fhzr10_k7g                             crispy ginger cod fish   \n",
       "\n",
       "      label                photo_id  \n",
       "0    inside  soK1szeyan202jnsGhUDmA  \n",
       "1    inside  dU7AyRB_fHOZkflodEyN5A  \n",
       "2   outside  6T1qlbBdKkXA1cDNqMjg2g  \n",
       "3    inside  lHhMNhCA7rAZmi-MMfF3ZA  \n",
       "4      food  oHSCeyoK9oLIGaCZq-wRJw  \n",
       "5      food  EN9qzZpxfv00B_4X6q5lYA  \n",
       "6      food  M6c0qxQQwWkUzAxIvoTFuQ  \n",
       "7      food  876EKnk6deA7xA4i1aipJg  \n",
       "8      food  NFCDwGr_-TEiw9bzx3nFKw  \n",
       "9      food  YDmNsu38Nk2rPZMFEWBzvw  \n",
       "10   inside  UIx1UZw3ohK95t3DJC46bA  \n",
       "11   inside  kHrkA-8BY4tC-rejiJNhBQ  \n",
       "12   inside  ljStFDx0XFg8jSbJIRhvGA  \n",
       "13   inside  eVSK-mJ2qtusnqqsCwuXGw  \n",
       "14     food  wjbdjtiBQciSBY9KzzBUIA  \n",
       "15     food  JoB_QTE2Hjr1NT0AgYdWzQ  \n",
       "16     food  PvdNq213kqk7N9raOcefEw  \n",
       "17     food  jQyiq-HX3mUCXOyQ0lc0QA  \n",
       "18     food  _ExrVJTjGcChfzLH51etAw  \n",
       "19     food  Ex6bzPB9ZrKiSX0fnBvhfA  "
      ]
     },
     "execution_count": 14,
     "metadata": {},
     "output_type": "execute_result"
    }
   ],
   "source": [
    "df.head(20)"
   ]
  },
  {
   "cell_type": "markdown",
   "metadata": {},
   "source": [
    "## 2. Isolate images with  captions\n",
    "\n",
    "For training purposes, the images which have captions are what interest me. The ones that don't can be used to manually validate that my model is doing something reasonable, but won't be helpful for training purposes.  "
   ]
  },
  {
   "cell_type": "code",
   "execution_count": 15,
   "metadata": {},
   "outputs": [
    {
     "data": {
      "text/plain": [
       "''"
      ]
     },
     "execution_count": 15,
     "metadata": {},
     "output_type": "execute_result"
    }
   ],
   "source": [
    "# what do the missing values look like? \n",
    "df['caption'][0]"
   ]
  },
  {
   "cell_type": "code",
   "execution_count": 16,
   "metadata": {},
   "outputs": [],
   "source": [
    "# isolate the indecies of incomplete values\n",
    "missing_idx = df['caption'] == ''"
   ]
  },
  {
   "cell_type": "code",
   "execution_count": 199,
   "metadata": {},
   "outputs": [],
   "source": [
    "# seperate full and missing data\n",
    "df_full = df[np.logical_not(missing_idx)]\n",
    "df_missing = df[missing_idx]"
   ]
  },
  {
   "cell_type": "markdown",
   "metadata": {},
   "source": [
    "Now we have two datasets - one of images _with_ captions and one _without_. How many images have captions? "
   ]
  },
  {
   "cell_type": "code",
   "execution_count": 200,
   "metadata": {},
   "outputs": [
    {
     "name": "stdout",
     "output_type": "stream",
     "text": [
      "Num Images with captions:    100807\n",
      "Num Images without captions: 106142\n"
     ]
    }
   ],
   "source": [
    "print(\"Num Images with captions:    %d\"%  df_full.shape[0])\n",
    "print(\"Num Images without captions: %d\"%  df_missing.shape[0])"
   ]
  },
  {
   "cell_type": "markdown",
   "metadata": {},
   "source": [
    "Pretty good! half the images have catptions!"
   ]
  },
  {
   "cell_type": "code",
   "execution_count": 215,
   "metadata": {},
   "outputs": [
    {
     "data": {
      "text/html": [
       "<div>\n",
       "<style scoped>\n",
       "    .dataframe tbody tr th:only-of-type {\n",
       "        vertical-align: middle;\n",
       "    }\n",
       "\n",
       "    .dataframe tbody tr th {\n",
       "        vertical-align: top;\n",
       "    }\n",
       "\n",
       "    .dataframe thead th {\n",
       "        text-align: right;\n",
       "    }\n",
       "</style>\n",
       "<table border=\"1\" class=\"dataframe\">\n",
       "  <thead>\n",
       "    <tr style=\"text-align: right;\">\n",
       "      <th></th>\n",
       "      <th>photo_id</th>\n",
       "      <th>caption</th>\n",
       "    </tr>\n",
       "  </thead>\n",
       "  <tbody>\n",
       "    <tr>\n",
       "      <th>137115</th>\n",
       "      <td>VqRP_VZRhvJOCsxss2SBtw</td>\n",
       "      <td>Vibrant ambiance in the bar.</td>\n",
       "    </tr>\n",
       "    <tr>\n",
       "      <th>22920</th>\n",
       "      <td>Ua9rDOEuDk2zYXRb2Wr__g</td>\n",
       "      <td>Well designed.</td>\n",
       "    </tr>\n",
       "    <tr>\n",
       "      <th>64490</th>\n",
       "      <td>LmR8NkoqtqDHxGZj23-eYA</td>\n",
       "      <td>Loudons' carrot cake.</td>\n",
       "    </tr>\n",
       "    <tr>\n",
       "      <th>22240</th>\n",
       "      <td>DfgC1FLUypwEE9wmdNoxMg</td>\n",
       "      <td>Cold Served Agedashi Eggplant (fried eggplant ...</td>\n",
       "    </tr>\n",
       "    <tr>\n",
       "      <th>154064</th>\n",
       "      <td>KrmbpcDWcVZr_LHh5Ia5MA</td>\n",
       "      <td>Work area</td>\n",
       "    </tr>\n",
       "    <tr>\n",
       "      <th>124743</th>\n",
       "      <td>rb3IJv6UN0RjolbsdH1fSA</td>\n",
       "      <td>2 dozen Blue Point oysters &amp; Sauvignon Blanc</td>\n",
       "    </tr>\n",
       "    <tr>\n",
       "      <th>88052</th>\n",
       "      <td>kacL9YXJ74XyUMXsnWocGw</td>\n",
       "      <td>Quail n Waffles</td>\n",
       "    </tr>\n",
       "    <tr>\n",
       "      <th>201800</th>\n",
       "      <td>YlrwsA08gF09bkp2vaTNZA</td>\n",
       "      <td>Curry Fried Rice</td>\n",
       "    </tr>\n",
       "    <tr>\n",
       "      <th>106393</th>\n",
       "      <td>1W_lvdghBEWZHTt48_Xs_Q</td>\n",
       "      <td>Not oysters. Substitute. Tasty, but small port...</td>\n",
       "    </tr>\n",
       "    <tr>\n",
       "      <th>87464</th>\n",
       "      <td>m9R6319UFtgQxt9-D-NRNQ</td>\n",
       "      <td>#8 Oven Roasted Sliced Turkey</td>\n",
       "    </tr>\n",
       "    <tr>\n",
       "      <th>71711</th>\n",
       "      <td>dDf8W-_4ARgouzxr708F1A</td>\n",
       "      <td>Inside</td>\n",
       "    </tr>\n",
       "    <tr>\n",
       "      <th>184565</th>\n",
       "      <td>CU0W5LIPTp7RMuGr9PdnYg</td>\n",
       "      <td>interior</td>\n",
       "    </tr>\n",
       "    <tr>\n",
       "      <th>193363</th>\n",
       "      <td>_bVSK8F2nXJfq2MszjwQOA</td>\n",
       "      <td>top 5 places for pierogi cleveland.com</td>\n",
       "    </tr>\n",
       "    <tr>\n",
       "      <th>170724</th>\n",
       "      <td>Pxf6NznW8CCt4O78FAnMCA</td>\n",
       "      <td>Nest Egg</td>\n",
       "    </tr>\n",
       "    <tr>\n",
       "      <th>29154</th>\n",
       "      <td>a5EkKtp-QbfACq0I2126tw</td>\n",
       "      <td>Meat lovers pizza</td>\n",
       "    </tr>\n",
       "    <tr>\n",
       "      <th>199613</th>\n",
       "      <td>ATvvm6fgFBkCf4DVSUxsWw</td>\n",
       "      <td>Rhubarb fizz!</td>\n",
       "    </tr>\n",
       "    <tr>\n",
       "      <th>182291</th>\n",
       "      <td>4cIBzai7DdXKOXcihPBamg</td>\n",
       "      <td>Hoi Nam Chicken</td>\n",
       "    </tr>\n",
       "    <tr>\n",
       "      <th>80805</th>\n",
       "      <td>R6NZRZGp3wDIr-_8JScVpg</td>\n",
       "      <td>Baja Fish Taco (Crispy fried fish topped with ...</td>\n",
       "    </tr>\n",
       "    <tr>\n",
       "      <th>14043</th>\n",
       "      <td>aYZLBZNdmeeRUoLOkhWfzQ</td>\n",
       "      <td>I forget the name of this but I believe my mun...</td>\n",
       "    </tr>\n",
       "    <tr>\n",
       "      <th>161149</th>\n",
       "      <td>SbNPsCT6wSeELptKkSe-7g</td>\n",
       "      <td>Baked rice with chicken cutlet in a brick toas...</td>\n",
       "    </tr>\n",
       "  </tbody>\n",
       "</table>\n",
       "</div>"
      ],
      "text/plain": [
       "                      photo_id  \\\n",
       "137115  VqRP_VZRhvJOCsxss2SBtw   \n",
       "22920   Ua9rDOEuDk2zYXRb2Wr__g   \n",
       "64490   LmR8NkoqtqDHxGZj23-eYA   \n",
       "22240   DfgC1FLUypwEE9wmdNoxMg   \n",
       "154064  KrmbpcDWcVZr_LHh5Ia5MA   \n",
       "124743  rb3IJv6UN0RjolbsdH1fSA   \n",
       "88052   kacL9YXJ74XyUMXsnWocGw   \n",
       "201800  YlrwsA08gF09bkp2vaTNZA   \n",
       "106393  1W_lvdghBEWZHTt48_Xs_Q   \n",
       "87464   m9R6319UFtgQxt9-D-NRNQ   \n",
       "71711   dDf8W-_4ARgouzxr708F1A   \n",
       "184565  CU0W5LIPTp7RMuGr9PdnYg   \n",
       "193363  _bVSK8F2nXJfq2MszjwQOA   \n",
       "170724  Pxf6NznW8CCt4O78FAnMCA   \n",
       "29154   a5EkKtp-QbfACq0I2126tw   \n",
       "199613  ATvvm6fgFBkCf4DVSUxsWw   \n",
       "182291  4cIBzai7DdXKOXcihPBamg   \n",
       "80805   R6NZRZGp3wDIr-_8JScVpg   \n",
       "14043   aYZLBZNdmeeRUoLOkhWfzQ   \n",
       "161149  SbNPsCT6wSeELptKkSe-7g   \n",
       "\n",
       "                                                  caption  \n",
       "137115                       Vibrant ambiance in the bar.  \n",
       "22920                                      Well designed.  \n",
       "64490                               Loudons' carrot cake.  \n",
       "22240   Cold Served Agedashi Eggplant (fried eggplant ...  \n",
       "154064                                          Work area  \n",
       "124743       2 dozen Blue Point oysters & Sauvignon Blanc  \n",
       "88052                                     Quail n Waffles  \n",
       "201800                                   Curry Fried Rice  \n",
       "106393  Not oysters. Substitute. Tasty, but small port...  \n",
       "87464                       #8 Oven Roasted Sliced Turkey  \n",
       "71711                                              Inside  \n",
       "184565                                           interior  \n",
       "193363             top 5 places for pierogi cleveland.com  \n",
       "170724                                           Nest Egg  \n",
       "29154                                   Meat lovers pizza  \n",
       "199613                                      Rhubarb fizz!  \n",
       "182291                                    Hoi Nam Chicken  \n",
       "80805   Baja Fish Taco (Crispy fried fish topped with ...  \n",
       "14043   I forget the name of this but I believe my mun...  \n",
       "161149  Baked rice with chicken cutlet in a brick toas...  "
      ]
     },
     "execution_count": 215,
     "metadata": {},
     "output_type": "execute_result"
    }
   ],
   "source": [
    "df_full[['photo_id', 'caption']].sample(20)"
   ]
  },
  {
   "cell_type": "markdown",
   "metadata": {},
   "source": [
    "## 3. Text cleaning\n",
    "\n",
    "Before I save the captions, it will be a good idea to clean the texts. "
   ]
  },
  {
   "cell_type": "markdown",
   "metadata": {},
   "source": [
    "First, remove newline caracters from the captions:"
   ]
  },
  {
   "cell_type": "code",
   "execution_count": 216,
   "metadata": {},
   "outputs": [
    {
     "name": "stderr",
     "output_type": "stream",
     "text": [
      "/usr/local/lib/python3.6/site-packages/ipykernel_launcher.py:1: SettingWithCopyWarning: \n",
      "A value is trying to be set on a copy of a slice from a DataFrame.\n",
      "Try using .loc[row_indexer,col_indexer] = value instead\n",
      "\n",
      "See the caveats in the documentation: http://pandas.pydata.org/pandas-docs/stable/indexing.html#indexing-view-versus-copy\n",
      "  \"\"\"Entry point for launching an IPython kernel.\n"
     ]
    }
   ],
   "source": [
    "df_full['caption'] = df_full['caption'].apply(lambda x: re.sub(string = x, pattern = r'(\\n|\\r)', repl = \" \"))"
   ]
  },
  {
   "cell_type": "markdown",
   "metadata": {},
   "source": [
    "Now, I've noticed that many catpions have the \"and\" character `&` - such as in \"sweet & spicy\". Later, I'll remove punctuations, but for coherency it will be useful to replace the `&` character with a native \"and\"."
   ]
  },
  {
   "cell_type": "code",
   "execution_count": 217,
   "metadata": {},
   "outputs": [
    {
     "name": "stderr",
     "output_type": "stream",
     "text": [
      "/usr/local/lib/python3.6/site-packages/pandas/core/generic.py:4619: SettingWithCopyWarning: \n",
      "A value is trying to be set on a copy of a slice from a DataFrame\n",
      "\n",
      "See the caveats in the documentation: http://pandas.pydata.org/pandas-docs/stable/indexing.html#indexing-view-versus-copy\n",
      "  self._update_inplace(new_data)\n"
     ]
    }
   ],
   "source": [
    "df_full['caption'].replace(\"\\&\", \" and \", regex = True, inplace = True)"
   ]
  },
  {
   "cell_type": "markdown",
   "metadata": {},
   "source": [
    "Another common use of punctuation is for websites: for example _https://www.greatfood.com_. These will likely not be in a word embedding dictionary. If we replace all website-like strings with a common token, say **website**, it will be easier to learn more interesting patterns across captions, and reduce our vocabulary size. "
   ]
  },
  {
   "cell_type": "code",
   "execution_count": 218,
   "metadata": {},
   "outputs": [
    {
     "name": "stderr",
     "output_type": "stream",
     "text": [
      "/usr/local/lib/python3.6/site-packages/pandas/core/generic.py:4619: SettingWithCopyWarning: \n",
      "A value is trying to be set on a copy of a slice from a DataFrame\n",
      "\n",
      "See the caveats in the documentation: http://pandas.pydata.org/pandas-docs/stable/indexing.html#indexing-view-versus-copy\n",
      "  self._update_inplace(new_data)\n"
     ]
    }
   ],
   "source": [
    "df_full.caption.replace(\"[a-z\\:\\/\\.0-9]+\\.(org|com|net)\", \" website \", regex = True, inplace = True)"
   ]
  },
  {
   "cell_type": "code",
   "execution_count": 219,
   "metadata": {},
   "outputs": [
    {
     "name": "stderr",
     "output_type": "stream",
     "text": [
      "/usr/local/lib/python3.6/site-packages/ipykernel_launcher.py:2: SettingWithCopyWarning: \n",
      "A value is trying to be set on a copy of a slice from a DataFrame.\n",
      "Try using .loc[row_indexer,col_indexer] = value instead\n",
      "\n",
      "See the caveats in the documentation: http://pandas.pydata.org/pandas-docs/stable/indexing.html#indexing-view-versus-copy\n",
      "  \n"
     ]
    }
   ],
   "source": [
    "trans_table = str.maketrans('', '', string.punctuation + \"–\")\n",
    "df_full['caption'] = df_full['caption'].apply(lambda x: x.translate(trans_table))"
   ]
  },
  {
   "cell_type": "markdown",
   "metadata": {},
   "source": [
    "Removing numbers and replacing it with a token, say **num**"
   ]
  },
  {
   "cell_type": "code",
   "execution_count": 220,
   "metadata": {},
   "outputs": [
    {
     "name": "stderr",
     "output_type": "stream",
     "text": [
      "/usr/local/lib/python3.6/site-packages/pandas/core/generic.py:4619: SettingWithCopyWarning: \n",
      "A value is trying to be set on a copy of a slice from a DataFrame\n",
      "\n",
      "See the caveats in the documentation: http://pandas.pydata.org/pandas-docs/stable/indexing.html#indexing-view-versus-copy\n",
      "  self._update_inplace(new_data)\n"
     ]
    }
   ],
   "source": [
    "df_full.caption.replace(\"([0-9]+ |)[0-9]+\", \" num \", regex = True, inplace=True)"
   ]
  },
  {
   "cell_type": "markdown",
   "metadata": {},
   "source": [
    "Now, converting unicode to ascii characters. This will convert strings like \"hélen\" to \"helen\". This will help reduce our vocabulary size, as some people write the same words with/without accents. "
   ]
  },
  {
   "cell_type": "code",
   "execution_count": 221,
   "metadata": {},
   "outputs": [
    {
     "name": "stderr",
     "output_type": "stream",
     "text": [
      "/usr/local/lib/python3.6/site-packages/pandas/core/generic.py:3643: SettingWithCopyWarning: \n",
      "A value is trying to be set on a copy of a slice from a DataFrame.\n",
      "Try using .loc[row_indexer,col_indexer] = value instead\n",
      "\n",
      "See the caveats in the documentation: http://pandas.pydata.org/pandas-docs/stable/indexing.html#indexing-view-versus-copy\n",
      "  self[name] = value\n"
     ]
    }
   ],
   "source": [
    "df_full.caption = df_full.caption.apply(lambda x: unidecode.unidecode(x))"
   ]
  },
  {
   "cell_type": "markdown",
   "metadata": {},
   "source": [
    "Lowercasing, and stripping whitespaces"
   ]
  },
  {
   "cell_type": "code",
   "execution_count": 222,
   "metadata": {},
   "outputs": [
    {
     "name": "stderr",
     "output_type": "stream",
     "text": [
      "/usr/local/lib/python3.6/site-packages/pandas/core/generic.py:3643: SettingWithCopyWarning: \n",
      "A value is trying to be set on a copy of a slice from a DataFrame.\n",
      "Try using .loc[row_indexer,col_indexer] = value instead\n",
      "\n",
      "See the caveats in the documentation: http://pandas.pydata.org/pandas-docs/stable/indexing.html#indexing-view-versus-copy\n",
      "  self[name] = value\n"
     ]
    }
   ],
   "source": [
    "df_full.caption = df_full.caption.apply(lambda x: x.lower().strip())"
   ]
  },
  {
   "cell_type": "code",
   "execution_count": 248,
   "metadata": {},
   "outputs": [
    {
     "data": {
      "text/html": [
       "<div>\n",
       "<style scoped>\n",
       "    .dataframe tbody tr th:only-of-type {\n",
       "        vertical-align: middle;\n",
       "    }\n",
       "\n",
       "    .dataframe tbody tr th {\n",
       "        vertical-align: top;\n",
       "    }\n",
       "\n",
       "    .dataframe thead th {\n",
       "        text-align: right;\n",
       "    }\n",
       "</style>\n",
       "<table border=\"1\" class=\"dataframe\">\n",
       "  <thead>\n",
       "    <tr style=\"text-align: right;\">\n",
       "      <th></th>\n",
       "      <th>photo_id</th>\n",
       "      <th>caption</th>\n",
       "    </tr>\n",
       "  </thead>\n",
       "  <tbody>\n",
       "    <tr>\n",
       "      <th>142330</th>\n",
       "      <td>WbRASFJiBgKfak1YpG2cnA</td>\n",
       "      <td>pumpkin slice</td>\n",
       "    </tr>\n",
       "    <tr>\n",
       "      <th>174908</th>\n",
       "      <td>LpQusInSBbIEQHzGfb8itw</td>\n",
       "      <td>house lo mein</td>\n",
       "    </tr>\n",
       "    <tr>\n",
       "      <th>171584</th>\n",
       "      <td>_zfXI0Ez2jh0OVgIow6lQw</td>\n",
       "      <td>not a good picture of the view but it was plea...</td>\n",
       "    </tr>\n",
       "    <tr>\n",
       "      <th>195411</th>\n",
       "      <td>hlh-DpZzAjXEEm5ZzhrtFA</td>\n",
       "      <td>margherita pizza two great little salads opera...</td>\n",
       "    </tr>\n",
       "    <tr>\n",
       "      <th>110614</th>\n",
       "      <td>rrcWXjFM-5JcVAiSULJg5A</td>\n",
       "      <td>chicken and plantains</td>\n",
       "    </tr>\n",
       "    <tr>\n",
       "      <th>143626</th>\n",
       "      <td>sLv-7TYXVyGEDNmc6nbKHA</td>\n",
       "      <td>saffron risotto frutti di mare  prawns clams m...</td>\n",
       "    </tr>\n",
       "    <tr>\n",
       "      <th>80714</th>\n",
       "      <td>nJtUX9zvGvyEppqmiD55lA</td>\n",
       "      <td>bar</td>\n",
       "    </tr>\n",
       "    <tr>\n",
       "      <th>155098</th>\n",
       "      <td>xIVq_K20l69fJcfv6YS2yQ</td>\n",
       "      <td>dinner at pampas churrascaria and a show at pl...</td>\n",
       "    </tr>\n",
       "    <tr>\n",
       "      <th>95670</th>\n",
       "      <td>e8XNGIMDEPXnn5z5j9Lceg</td>\n",
       "      <td>num  beers on draught  great selection of spirits</td>\n",
       "    </tr>\n",
       "    <tr>\n",
       "      <th>38895</th>\n",
       "      <td>u_SwLkl344BdeOEf6OpYjQ</td>\n",
       "      <td>japanese steak</td>\n",
       "    </tr>\n",
       "    <tr>\n",
       "      <th>177520</th>\n",
       "      <td>b733u77v_YiT2jzEa3mEFw</td>\n",
       "      <td>making the caesar</td>\n",
       "    </tr>\n",
       "    <tr>\n",
       "      <th>74608</th>\n",
       "      <td>ldOvC0_10eaJs318Z1Tckw</td>\n",
       "      <td>new for september kahlua creme cheesecake</td>\n",
       "    </tr>\n",
       "    <tr>\n",
       "      <th>202267</th>\n",
       "      <td>ZIXqqY_lnwW5gzzLzZelFg</td>\n",
       "      <td>view from patio at sunset</td>\n",
       "    </tr>\n",
       "    <tr>\n",
       "      <th>27776</th>\n",
       "      <td>HmiqUbirNsiYFUZtmdLGTg</td>\n",
       "      <td>mac  and  cheese</td>\n",
       "    </tr>\n",
       "    <tr>\n",
       "      <th>28669</th>\n",
       "      <td>qFpdeJpSVk4SyRrdq2j7hQ</td>\n",
       "      <td>rack of ribs with skillet mushrooms</td>\n",
       "    </tr>\n",
       "    <tr>\n",
       "      <th>52868</th>\n",
       "      <td>lOl5il0S0y_Fd5e5voWvsw</td>\n",
       "      <td>outdoor patio</td>\n",
       "    </tr>\n",
       "    <tr>\n",
       "      <th>169256</th>\n",
       "      <td>6cBS6LsQOMwcwwXZOyCZLg</td>\n",
       "      <td>num  dozen kusshi oysters tabasco sorbet  tequ...</td>\n",
       "    </tr>\n",
       "    <tr>\n",
       "      <th>201964</th>\n",
       "      <td>VKy5frnPLe9kGS97ysNUbg</td>\n",
       "      <td>fremont street experience</td>\n",
       "    </tr>\n",
       "    <tr>\n",
       "      <th>50569</th>\n",
       "      <td>sBPWpGLk5IUe3GwtYnF34A</td>\n",
       "      <td>veggie burger</td>\n",
       "    </tr>\n",
       "    <tr>\n",
       "      <th>120735</th>\n",
       "      <td>4KoH0fIZX2NaxAXlKIryZQ</td>\n",
       "      <td>bone in ribeye</td>\n",
       "    </tr>\n",
       "  </tbody>\n",
       "</table>\n",
       "</div>"
      ],
      "text/plain": [
       "                      photo_id  \\\n",
       "142330  WbRASFJiBgKfak1YpG2cnA   \n",
       "174908  LpQusInSBbIEQHzGfb8itw   \n",
       "171584  _zfXI0Ez2jh0OVgIow6lQw   \n",
       "195411  hlh-DpZzAjXEEm5ZzhrtFA   \n",
       "110614  rrcWXjFM-5JcVAiSULJg5A   \n",
       "143626  sLv-7TYXVyGEDNmc6nbKHA   \n",
       "80714   nJtUX9zvGvyEppqmiD55lA   \n",
       "155098  xIVq_K20l69fJcfv6YS2yQ   \n",
       "95670   e8XNGIMDEPXnn5z5j9Lceg   \n",
       "38895   u_SwLkl344BdeOEf6OpYjQ   \n",
       "177520  b733u77v_YiT2jzEa3mEFw   \n",
       "74608   ldOvC0_10eaJs318Z1Tckw   \n",
       "202267  ZIXqqY_lnwW5gzzLzZelFg   \n",
       "27776   HmiqUbirNsiYFUZtmdLGTg   \n",
       "28669   qFpdeJpSVk4SyRrdq2j7hQ   \n",
       "52868   lOl5il0S0y_Fd5e5voWvsw   \n",
       "169256  6cBS6LsQOMwcwwXZOyCZLg   \n",
       "201964  VKy5frnPLe9kGS97ysNUbg   \n",
       "50569   sBPWpGLk5IUe3GwtYnF34A   \n",
       "120735  4KoH0fIZX2NaxAXlKIryZQ   \n",
       "\n",
       "                                                  caption  \n",
       "142330                                      pumpkin slice  \n",
       "174908                                      house lo mein  \n",
       "171584  not a good picture of the view but it was plea...  \n",
       "195411  margherita pizza two great little salads opera...  \n",
       "110614                              chicken and plantains  \n",
       "143626  saffron risotto frutti di mare  prawns clams m...  \n",
       "80714                                                 bar  \n",
       "155098  dinner at pampas churrascaria and a show at pl...  \n",
       "95670   num  beers on draught  great selection of spirits  \n",
       "38895                                      japanese steak  \n",
       "177520                                  making the caesar  \n",
       "74608           new for september kahlua creme cheesecake  \n",
       "202267                          view from patio at sunset  \n",
       "27776                                    mac  and  cheese  \n",
       "28669                 rack of ribs with skillet mushrooms  \n",
       "52868                                       outdoor patio  \n",
       "169256  num  dozen kusshi oysters tabasco sorbet  tequ...  \n",
       "201964                          fremont street experience  \n",
       "50569                                       veggie burger  \n",
       "120735                                     bone in ribeye  "
      ]
     },
     "execution_count": 248,
     "metadata": {},
     "output_type": "execute_result"
    }
   ],
   "source": [
    "df_full[['photo_id', 'caption']].sample(20)"
   ]
  },
  {
   "cell_type": "markdown",
   "metadata": {},
   "source": [
    "## 4. Seperate dataset\n",
    "\n",
    "Now, I seperate the photos with captions into train and validation splits. Those which don't have captions are set aside for later, and can be our \"playground\" set."
   ]
  },
  {
   "cell_type": "code",
   "execution_count": 249,
   "metadata": {},
   "outputs": [],
   "source": [
    "# create a vector that will index the training data\n",
    "train_idx = np.repeat(False, df_full.shape[0])\n",
    "np.random.seed(8)\n",
    "train_idx[np.random.choice(a = int(len(train_idx)), size = int(.8*len(train_idx)), replace = False)] = True\n",
    "\n",
    "# a vector that indexes the validation data\n",
    "valid_idx = np.logical_not(train_idx)"
   ]
  },
  {
   "cell_type": "code",
   "execution_count": 250,
   "metadata": {},
   "outputs": [
    {
     "name": "stdout",
     "output_type": "stream",
     "text": [
      "True\n",
      "True\n"
     ]
    }
   ],
   "source": [
    "# making sure that one is true and the other is not\n",
    "print(np.sum(np.logical_and(train_idx, valid_idx)) == 0)\n",
    "print(np.sum(np.logical_or(train_idx, valid_idx)) == df_full.shape[0])\n"
   ]
  },
  {
   "cell_type": "code",
   "execution_count": 251,
   "metadata": {},
   "outputs": [],
   "source": [
    "# isolating training and validation set\n",
    "df_train = df_full[['photo_id', 'caption']][train_idx]\n",
    "df_valid = df_full[['photo_id', 'caption']][valid_idx]"
   ]
  },
  {
   "cell_type": "code",
   "execution_count": 31,
   "metadata": {},
   "outputs": [
    {
     "name": "stdout",
     "output_type": "stream",
     "text": [
      "mkdir: ../data/split_lists: File exists\r\n"
     ]
    }
   ],
   "source": [
    "mkdir ../data/split_lists"
   ]
  },
  {
   "cell_type": "code",
   "execution_count": 252,
   "metadata": {},
   "outputs": [],
   "source": [
    "df_train.to_csv(\"../data/split_lists/train_ids.csv\", index = False)\n",
    "df_valid.to_csv(\"../data/split_lists/valid_ids.csv\", index = False)"
   ]
  },
  {
   "cell_type": "code",
   "execution_count": 253,
   "metadata": {},
   "outputs": [],
   "source": [
    "# isolate the list of photo id's that don't have a caption\n",
    "df_missing[['photo_id']].to_csv(\"../data/split_lists/playground_ids.csv\", index = False)"
   ]
  },
  {
   "cell_type": "code",
   "execution_count": 254,
   "metadata": {},
   "outputs": [
    {
     "name": "stdout",
     "output_type": "stream",
     "text": [
      "total 7048\r\n",
      "-rw-r--r--  1 timibennatan  staff  2441275 May  6 10:46 playground_ids.csv\r\n",
      "-rw-r--r--@ 1 timibennatan  staff  4680466 May  6 10:46 train_ids.csv\r\n",
      "-rw-r--r--  1 timibennatan  staff  1160594 May  6 10:46 valid_ids.csv\r\n"
     ]
    }
   ],
   "source": [
    "ls -l ../data/split_lists/"
   ]
  },
  {
   "cell_type": "markdown",
   "metadata": {},
   "source": [
    "K. Peace. "
   ]
  },
  {
   "cell_type": "code",
   "execution_count": 256,
   "metadata": {},
   "outputs": [
    {
     "data": {
      "text/html": [
       "<div>\n",
       "<style scoped>\n",
       "    .dataframe tbody tr th:only-of-type {\n",
       "        vertical-align: middle;\n",
       "    }\n",
       "\n",
       "    .dataframe tbody tr th {\n",
       "        vertical-align: top;\n",
       "    }\n",
       "\n",
       "    .dataframe thead th {\n",
       "        text-align: right;\n",
       "    }\n",
       "</style>\n",
       "<table border=\"1\" class=\"dataframe\">\n",
       "  <thead>\n",
       "    <tr style=\"text-align: right;\">\n",
       "      <th></th>\n",
       "      <th>photo_id</th>\n",
       "      <th>caption</th>\n",
       "    </tr>\n",
       "  </thead>\n",
       "  <tbody>\n",
       "    <tr>\n",
       "      <th>18</th>\n",
       "      <td>_ExrVJTjGcChfzLH51etAw</td>\n",
       "      <td>shanghai rainbow trout</td>\n",
       "    </tr>\n",
       "    <tr>\n",
       "      <th>20</th>\n",
       "      <td>yPUPhsJvT6yx6l8QwShw1Q</td>\n",
       "      <td>grill rainbow trout</td>\n",
       "    </tr>\n",
       "    <tr>\n",
       "      <th>28</th>\n",
       "      <td>zvESg-w2JIBL5FhU7F2d-g</td>\n",
       "      <td>chicken parm</td>\n",
       "    </tr>\n",
       "    <tr>\n",
       "      <th>45</th>\n",
       "      <td>uqdXqfB8MXW6XU7Hk1gGIQ</td>\n",
       "      <td>mcg holiday jazz</td>\n",
       "    </tr>\n",
       "    <tr>\n",
       "      <th>69</th>\n",
       "      <td>VMedbsDZnCxmCE3Pndvtng</td>\n",
       "      <td>dining room</td>\n",
       "    </tr>\n",
       "    <tr>\n",
       "      <th>80</th>\n",
       "      <td>Y3OxcrMgt_wvxPqVNq5tPg</td>\n",
       "      <td>meatloaf is back topped with bob evans wildfir...</td>\n",
       "    </tr>\n",
       "    <tr>\n",
       "      <th>84</th>\n",
       "      <td>ACfgPpp3q6oaO0ytpx3cgw</td>\n",
       "      <td>quaint bar</td>\n",
       "    </tr>\n",
       "    <tr>\n",
       "      <th>85</th>\n",
       "      <td>bw1IaF8FVcmShr6xbE0umA</td>\n",
       "      <td>jerk quesadillas and empty crab soup bowl</td>\n",
       "    </tr>\n",
       "    <tr>\n",
       "      <th>128</th>\n",
       "      <td>q6VRi5FwTMqffR5bsuRumQ</td>\n",
       "      <td>table seating to the left</td>\n",
       "    </tr>\n",
       "    <tr>\n",
       "      <th>133</th>\n",
       "      <td>MZ6lyOh87ELi3S3Re3r5IQ</td>\n",
       "      <td>seafood variety platters</td>\n",
       "    </tr>\n",
       "    <tr>\n",
       "      <th>158</th>\n",
       "      <td>J4kY0vanHHvkjpim7vr8nA</td>\n",
       "      <td>crab is fabulous and fresh</td>\n",
       "    </tr>\n",
       "    <tr>\n",
       "      <th>163</th>\n",
       "      <td>xSz613eZo8w-xeaskD49Hw</td>\n",
       "      <td>tanks of fresh seafood</td>\n",
       "    </tr>\n",
       "    <tr>\n",
       "      <th>164</th>\n",
       "      <td>Hg5ccIqxc_hBOFSYVH_zlg</td>\n",
       "      <td>yang zhou chao fan</td>\n",
       "    </tr>\n",
       "    <tr>\n",
       "      <th>167</th>\n",
       "      <td>nmSUbbG76FbPRTCPG7NTdA</td>\n",
       "      <td>the arizona sun</td>\n",
       "    </tr>\n",
       "    <tr>\n",
       "      <th>216</th>\n",
       "      <td>g3go6_1SMFFp6eMZCjCHkQ</td>\n",
       "      <td>main dining area</td>\n",
       "    </tr>\n",
       "    <tr>\n",
       "      <th>218</th>\n",
       "      <td>i52-1DaE8XRyDbrJ-5aTDQ</td>\n",
       "      <td>ika mentai</td>\n",
       "    </tr>\n",
       "    <tr>\n",
       "      <th>219</th>\n",
       "      <td>JtZt13ybK4dfMotLmav55g</td>\n",
       "      <td>note the manekiniko the beckoning cat has both...</td>\n",
       "    </tr>\n",
       "    <tr>\n",
       "      <th>221</th>\n",
       "      <td>8WJ37XdGFEChjTQ65MzvFg</td>\n",
       "      <td>udon suki</td>\n",
       "    </tr>\n",
       "    <tr>\n",
       "      <th>224</th>\n",
       "      <td>iyiFyYl_cESqwG6MfpCNDw</td>\n",
       "      <td>dessert</td>\n",
       "    </tr>\n",
       "    <tr>\n",
       "      <th>226</th>\n",
       "      <td>nGaIoK6FbFWCBAzjoxuS6A</td>\n",
       "      <td>ebi soba</td>\n",
       "    </tr>\n",
       "  </tbody>\n",
       "</table>\n",
       "</div>"
      ],
      "text/plain": [
       "                   photo_id                                            caption\n",
       "18   _ExrVJTjGcChfzLH51etAw                             shanghai rainbow trout\n",
       "20   yPUPhsJvT6yx6l8QwShw1Q                                grill rainbow trout\n",
       "28   zvESg-w2JIBL5FhU7F2d-g                                       chicken parm\n",
       "45   uqdXqfB8MXW6XU7Hk1gGIQ                                   mcg holiday jazz\n",
       "69   VMedbsDZnCxmCE3Pndvtng                                        dining room\n",
       "80   Y3OxcrMgt_wvxPqVNq5tPg  meatloaf is back topped with bob evans wildfir...\n",
       "84   ACfgPpp3q6oaO0ytpx3cgw                                         quaint bar\n",
       "85   bw1IaF8FVcmShr6xbE0umA          jerk quesadillas and empty crab soup bowl\n",
       "128  q6VRi5FwTMqffR5bsuRumQ                          table seating to the left\n",
       "133  MZ6lyOh87ELi3S3Re3r5IQ                           seafood variety platters\n",
       "158  J4kY0vanHHvkjpim7vr8nA                         crab is fabulous and fresh\n",
       "163  xSz613eZo8w-xeaskD49Hw                             tanks of fresh seafood\n",
       "164  Hg5ccIqxc_hBOFSYVH_zlg                                 yang zhou chao fan\n",
       "167  nmSUbbG76FbPRTCPG7NTdA                                    the arizona sun\n",
       "216  g3go6_1SMFFp6eMZCjCHkQ                                   main dining area\n",
       "218  i52-1DaE8XRyDbrJ-5aTDQ                                         ika mentai\n",
       "219  JtZt13ybK4dfMotLmav55g  note the manekiniko the beckoning cat has both...\n",
       "221  8WJ37XdGFEChjTQ65MzvFg                                          udon suki\n",
       "224  iyiFyYl_cESqwG6MfpCNDw                                            dessert\n",
       "226  nGaIoK6FbFWCBAzjoxuS6A                                           ebi soba"
      ]
     },
     "execution_count": 256,
     "metadata": {},
     "output_type": "execute_result"
    }
   ],
   "source": [
    "df_valid.head(20)"
   ]
  }
 ],
 "metadata": {
  "kernelspec": {
   "display_name": "Python 3",
   "language": "python",
   "name": "python3"
  },
  "language_info": {
   "codemirror_mode": {
    "name": "ipython",
    "version": 3
   },
   "file_extension": ".py",
   "mimetype": "text/x-python",
   "name": "python",
   "nbconvert_exporter": "python",
   "pygments_lexer": "ipython3",
   "version": "3.6.4"
  }
 },
 "nbformat": 4,
 "nbformat_minor": 2
}
